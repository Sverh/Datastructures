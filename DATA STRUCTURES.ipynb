{
 "cells": [
  {
   "cell_type": "markdown",
   "id": "3a9f696f",
   "metadata": {},
   "source": [
    "# STRUTTURA DEI DATI"
   ]
  },
  {
   "cell_type": "markdown",
   "id": "5a53489f",
   "metadata": {},
   "source": [
    "1. *DATI NUMERICI*\n",
    "2. *SEQUENZE*\n",
    "3. *STRINGHE*\n",
    "4. *LISTE*\n",
    "5. *TUPLES*\n",
    "6. *DIZIONARI*\n",
    "7. *CONVERSIONI FRA TIPI*\n",
    "8. *LOCAZIONE IN MEMORIA E COPIA DI OGGETTI*\n",
    "9. *MUTABILITÀ, IMMUTABILITÀ E METODI CHE MODIFICANO OGGETTI IMMUTABILI*"
   ]
  },
  {
   "cell_type": "markdown",
   "id": "7816fffb",
   "metadata": {},
   "source": [
    "Python determina automaticamente il tipo di una variabile in base al valore assegnato, a differenza di altri linguaggi in cui è necessario dichiarare il tipo in anticipo. Inoltre, Python è un linguaggio interpretato, quindi i comandi vengono eseguiti sequenzialmente senza bisogno di compilazione preventiva."
   ]
  },
  {
   "cell_type": "markdown",
   "id": "46c58734",
   "metadata": {},
   "source": [
    "## DATI NUMERICI"
   ]
  },
  {
   "cell_type": "markdown",
   "id": "04da1e2c",
   "metadata": {},
   "source": [
    "Dati numerici si usano per fare operazionioni matematiche. Sul questo codice, vengono usati 2 tipi di dati numerici. Numeri interi e numeri float. Numeri interi sono i numeri senza parte frazionaria e numeri float sono numeri con parte frazionaria, rappresentati con virgola."
   ]
  },
  {
   "cell_type": "code",
   "execution_count": 1,
   "id": "270c833e",
   "metadata": {},
   "outputs": [
    {
     "name": "stdout",
     "output_type": "stream",
     "text": [
      "Somma: 128\n"
     ]
    }
   ],
   "source": [
    "a = 44  # Numero intero\n",
    "b = 84  # Numero float\n",
    "\n",
    "# I calcoli\n",
    "somma = a + b # Calcola la somma\n",
    "\n",
    "# I risultati\n",
    "print(\"Somma:\", somma) #Stampa la somma\n"
   ]
  },
  {
   "cell_type": "markdown",
   "id": "67d06855-bbb0-4fc7-98fa-9a35a941b8c2",
   "metadata": {},
   "source": [
    "## SEQUENZE"
   ]
  },
  {
   "cell_type": "markdown",
   "id": "4082a2b4-59df-445a-b9a9-a3be93c39d4e",
   "metadata": {},
   "source": [
    "Le sequenze in Python sono collezioni ordinate di elementi. Ogni elemento in una sequenza ha un indice che indica la sua posizione nella sequenza. Le sequenze possono essere indicizzate e sezionate per accedere agli elementi individuali o a sottoinsiemi di elementi.\n",
    "\n",
    "Le sequenze principali in Python includono:\n",
    "Stringhe: Sequenze immutabili di caratteri, definite tra virgolette singole o doppie.\n",
    "Liste: Sequenze mutevoli di elementi, definite tra parentesi quadre [].\n",
    "Tuple: Sequenze immutabili di elementi, definite tra parentesi tonde ()."
   ]
  },
  {
   "cell_type": "markdown",
   "id": "faaefefb",
   "metadata": {},
   "source": [
    "## STRINGHE"
   ]
  },
  {
   "cell_type": "markdown",
   "id": "e6473dbe-cdb4-4527-ad1b-5ae4f44133d7",
   "metadata": {},
   "source": [
    "Una stringa è una sequenza di caratteri, immutabile, che possono includere lettere, numeri, simboli e spazi, trattati come un singolo oggetto di dati all'interno di un programma. Sul questo codice definiamo la stringa che si stampa \"Ciao, Mondo!\". Definiamo la lunghezza e dopo otenniamo la sottostringa. Concateniamo le due stringhe."
   ]
  },
  {
   "cell_type": "code",
   "execution_count": 2,
   "id": "461d36fd-a6f2-4852-993b-7b8a3f56c6e3",
   "metadata": {},
   "outputs": [
    {
     "name": "stdout",
     "output_type": "stream",
     "text": [
      "Ciao, Mondo!\n",
      "Lunghezza della stringa: 12\n",
      "Sottostringa: Ciao,\n",
      "Nuova stringa: Ciao, Mondo! Come stai?\n"
     ]
    }
   ],
   "source": [
    "stringa = \"Ciao, Mondo!\" # Definisce una stringa\n",
    "\n",
    "print(stringa) # Stampa la stringa\n",
    "\n",
    "# Si definisce la lunghezza della stringa e dopo si stampa\n",
    "lunghezza = len(stringa)\n",
    "print(\"Lunghezza della stringa:\", lunghezza)\n",
    "\n",
    "# Si serve per otennere una sottostringa\n",
    "sottostringa = stringa[0:5]\n",
    "print(\"Sottostringa:\", sottostringa)\n",
    "\n",
    "# Si serve per concatenare due stringhe\n",
    "nuova_stringa = stringa + \" Come stai?\"\n",
    "print(\"Nuova stringa:\", nuova_stringa)"
   ]
  },
  {
   "cell_type": "markdown",
   "id": "be89e2c1",
   "metadata": {},
   "source": [
    "## LISTE "
   ]
  },
  {
   "cell_type": "markdown",
   "id": "acfd0793-09cd-4b64-93d4-64aae72646f3",
   "metadata": {},
   "source": [
    "Una lista è una sequenza mutabile di oggetti in Python, definita tra parentesi quadre [], che consente l'inserimento, la rimozione e la modifica degli elementi. Su questo codice lo creariamo la lista dei numeri dove lo modifichiamo i numeri o aggiugiamo altri. "
   ]
  },
  {
   "cell_type": "code",
   "execution_count": 3,
   "id": "57308277-a16a-4cb5-8e41-6db8555eb148",
   "metadata": {},
   "outputs": [
    {
     "name": "stdout",
     "output_type": "stream",
     "text": [
      "Lista dei numeri: [1, 2, 3, 4, 5]\n",
      "Primo numero: 1\n",
      "Terzo numero: 3\n",
      "Numeri modificati: [10, 2, 3, 4, 5]\n",
      "Numeri aggiunti: [10, 2, 3, 4, 5, 6]\n"
     ]
    }
   ],
   "source": [
    "numeri = [1, 2, 3, 4, 5] # Lista dei numeri\n",
    "\n",
    "print(\"Lista dei numeri:\", numeri) # Stampa lista dei numeri\n",
    "\n",
    "print(\"Primo numero:\", numeri[0]) # Stampa primo numero della lista\n",
    "print(\"Terzo numero:\", numeri[2]) # Stampa terzo numero della lista\n",
    "\n",
    "numeri[0] = 10 # Modifica di primo numero\n",
    "print(\"Numeri modificati:\", numeri) # Stampa i numeri modificati\n",
    "\n",
    "numeri.append(6) # Aggiunge numero 6 nella fine\n",
    "print(\"Numeri aggiunti:\", numeri) # Stampa numeri aggiunti."
   ]
  },
  {
   "cell_type": "markdown",
   "id": "06ec9941",
   "metadata": {},
   "source": [
    "## TUPLES\n"
   ]
  },
  {
   "cell_type": "markdown",
   "id": "2d4c495d-7177-40cb-a741-b36c1ef1b7ce",
   "metadata": {},
   "source": [
    "Una tupla è una struttura dati immutabile in Python, definita tra parentesi tonde (), simile alle liste ma con la caratteristica fondamentale che una volta creata, non può essere modificata. Questo significa che non è possibile aggiungere, rimuovere o modificare elementi all'interno di una tupla dopo la sua creazione. Questo codice definisce i valori di Tupla e stampa. Dopo il codice stampa primo e terzo numero di tupla."
   ]
  },
  {
   "cell_type": "code",
   "execution_count": 4,
   "id": "18c420cb-56c8-43ba-aa0c-559df1b87a23",
   "metadata": {},
   "outputs": [
    {
     "name": "stdout",
     "output_type": "stream",
     "text": [
      "I valori: (1, 2, 3, 4, 5)\n",
      "Primo numero: 1\n",
      "Terzo numero: 3\n"
     ]
    }
   ],
   "source": [
    "tupla = (1, 2, 3, 4, 5) # Definisce i valori\n",
    "\n",
    "print(\"I valori:\", tupla) # Stampa i numero quali erano indicati sopra\n",
    "\n",
    "print(\"Primo numero:\", tupla[0])  # Stampa primo numero di Tupla\n",
    "print(\"Terzo numero:\", tupla[2])  # Stampa terzo numero di Tupla\n"
   ]
  },
  {
   "cell_type": "markdown",
   "id": "195eb806-2e2b-496b-98a2-3b2c30a8cdb5",
   "metadata": {},
   "source": [
    "## DIZIONARI"
   ]
  },
  {
   "cell_type": "markdown",
   "id": "1d734e96-6ab1-4d8a-abfb-7d0eb9db66e5",
   "metadata": {},
   "source": [
    "dizionari, sono collezioni di coppie key-value. Le chiavi devono essere oggetti immutabili, come stringhe o tuple, mentre i valori possono essere mutabili o immutabili. Questo codice crea un dizionario, da l'accesso ai valori tramite **key-value**, dopo lo coppia e modifica un valori che gia esiste. Codice indica l'eta e nomi dei studenti e lo stampa."
   ]
  },
  {
   "cell_type": "code",
   "execution_count": 5,
   "id": "eaedd987-a463-4fa2-a13c-4734f2c20628",
   "metadata": {},
   "outputs": [
    {
     "name": "stdout",
     "output_type": "stream",
     "text": [
      "20\n",
      "Roberto ha 20 anni\n",
      "Luca ha 22 anni\n",
      "Davide ha 22 anni\n"
     ]
    }
   ],
   "source": [
    "studenti = {\"Roberto\": 20, \"Luca\": 21} # Creazione di un dizionario\n",
    "\n",
    "print(studenti[\"Roberto\"]) # Accesso ai valori tramite key-value\n",
    "\n",
    "studenti[\"Davide\"] = 22 # La coppia di key-value\n",
    "\n",
    "studenti[\"Luca\"] = 22 # Modifica un valore che gia esiste\n",
    "\n",
    "for nome, eta in studenti.items(): # Codice indica l'èta e nomi dei studenti per stampare\n",
    "    print(f\"{nome} ha {eta} anni\") # Stampa i nomi e eta dei student"
   ]
  },
  {
   "cell_type": "markdown",
   "id": "6f0d0c16-0ddd-4626-abc0-5ee33b6c7d15",
   "metadata": {},
   "source": [
    "## CONVERSIONI FRA TIPI"
   ]
  },
  {
   "cell_type": "markdown",
   "id": "e4900277-d8e1-4ea3-a937-3ec34f040c9b",
   "metadata": {},
   "source": [
    "La funzione **type** mostra il tipo di un oggetto. Con funzione **type** è possibile convertire un oggetto in uno di tipo diverso.\n",
    "\n",
    "La funzione **int()** converte l'oggetto trasformabile in un intero:"
   ]
  },
  {
   "cell_type": "code",
   "execution_count": 11,
   "id": "d7fbae8b-eace-472a-b5bb-ac2070ca4f78",
   "metadata": {},
   "outputs": [],
   "source": [
    "a = '64' # Definizione di una stringa che contiene caratteri 6 e 4\n",
    "b = int(a) # b e numero intero di 64"
   ]
  },
  {
   "cell_type": "code",
   "execution_count": 12,
   "id": "689732c4-f0e0-4b6c-a636-851942f57b9c",
   "metadata": {},
   "outputs": [
    {
     "name": "stdout",
     "output_type": "stream",
     "text": [
      "Il type di '64' è <class 'str'>\n",
      "Il type di 64  è <class 'str'>\n"
     ]
    }
   ],
   "source": [
    "print(\"Il type di '64' è\",type(a))\n",
    "print(\"Il type di\",b,\" è\",type(a))"
   ]
  },
  {
   "cell_type": "markdown",
   "id": "ae4085ea-0101-4578-b8f5-cd101d01381f",
   "metadata": {},
   "source": [
    "## LOCAZIONE IN MEMORIA E COPIA DI OGGETTI"
   ]
  },
  {
   "cell_type": "markdown",
   "id": "0d1b907f-d13b-4e10-97df-c949b68ec7b5",
   "metadata": {},
   "source": [
    "In Python, la funzione **id()** è disponibile per ottenere un numero univoco che identifica un oggetto, essenzialmente l'indirizzo di memoria dove è memorizzato. Questo identificatore può essere utilizzato per verificare se due oggetti sono identici, cioè se si riferiscono alla stessa locazione di memoria."
   ]
  },
  {
   "cell_type": "code",
   "execution_count": 15,
   "id": "5e607aa4-8dcf-451a-b5dc-6772867fc96f",
   "metadata": {},
   "outputs": [
    {
     "name": "stdout",
     "output_type": "stream",
     "text": [
      "Le due liste puntano allo stesso oggetto.\n"
     ]
    }
   ],
   "source": [
    "lista1 = [1, 2, 3] # Definisce i variabili\n",
    "lista2 = lista1 # Definisce i variabili usando i valori di lista1\n",
    "\n",
    "id_lista1 = id(lista1) # Indica la memoria di lista1\n",
    "id_lista2 = id(lista2) # Indica la memoria di lista2\n",
    "\n",
    "# Verifica se le due liste vengono indicati con variabili uguali \n",
    "if id_lista1 == id_lista2: \n",
    "    print(\"Le due liste puntano allo stesso oggetto.\")\n",
    "else:\n",
    "    print(\"Le due liste puntano a oggetti diversi.\")"
   ]
  },
  {
   "cell_type": "markdown",
   "id": "2b14ca84-1140-4b74-9e58-287bdd12d801",
   "metadata": {},
   "source": [
    "## MUTABILITÀ, IMMUTABILITÀ E METODI CHE MODIFICANO OGGETTI IMMUTABILI"
   ]
  },
  {
   "cell_type": "markdown",
   "id": "14047727-acd7-4169-ae85-6a5ee8d81f86",
   "metadata": {},
   "source": [
    "Questo codice si crea una nuova stringa modificata quando utilizza il metodo **upper()**"
   ]
  },
  {
   "cell_type": "code",
   "execution_count": 28,
   "id": "e8dad1de-a544-42fe-a236-3ef1a8ef46a8",
   "metadata": {},
   "outputs": [],
   "source": [
    "st = \"abc\""
   ]
  },
  {
   "cell_type": "code",
   "execution_count": 30,
   "id": "c6ed1e74-87ce-4d4b-b246-0d7f64a74c2f",
   "metadata": {},
   "outputs": [
    {
     "data": {
      "text/plain": [
       "'ABC'"
      ]
     },
     "execution_count": 30,
     "metadata": {},
     "output_type": "execute_result"
    }
   ],
   "source": [
    "st = st.upper()\n",
    "\n",
    "st"
   ]
  },
  {
   "cell_type": "code",
   "execution_count": 27,
   "id": "5182549b-578a-43c2-8787-022c83b6d1d2",
   "metadata": {},
   "outputs": [
    {
     "name": "stdout",
     "output_type": "stream",
     "text": [
      "5047390224\n"
     ]
    }
   ],
   "source": [
    "st = \"abc\"\n",
    "print(id(st))"
   ]
  },
  {
   "cell_type": "code",
   "execution_count": 20,
   "id": "ae0c8350-cde5-483a-9fda-ed6b162b1723",
   "metadata": {},
   "outputs": [
    {
     "name": "stdout",
     "output_type": "stream",
     "text": [
      "5073004912\n"
     ]
    }
   ],
   "source": [
    "st = st.upper()\n",
    "print(id(st))"
   ]
  }
 ],
 "metadata": {
  "kernelspec": {
   "display_name": "Python 3 (ipykernel)",
   "language": "python",
   "name": "python3"
  },
  "language_info": {
   "codemirror_mode": {
    "name": "ipython",
    "version": 3
   },
   "file_extension": ".py",
   "mimetype": "text/x-python",
   "name": "python",
   "nbconvert_exporter": "python",
   "pygments_lexer": "ipython3",
   "version": "3.11.0"
  }
 },
 "nbformat": 4,
 "nbformat_minor": 5
}
